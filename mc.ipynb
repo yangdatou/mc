{
 "cells": [
  {
   "cell_type": "code",
   "execution_count": 6,
   "metadata": {},
   "outputs": [
    {
     "name": "stdout",
     "output_type": "stream",
     "text": [
      "MC progress:   0.0000%\n",
      "MC progress:  10.0000%\n",
      "MC progress:  20.0000%\n",
      "MC progress:  30.0000%\n",
      "MC progress:  40.0000%\n",
      "MC progress:  50.0000%\n",
      "MC progress:  60.0000%\n",
      "MC progress:  70.0000%\n",
      "MC progress:  80.0000%\n",
      "MC progress:  90.0000%\n",
      "MC progress:   0.0000%\n",
      "MC progress:  10.0000%\n",
      "MC progress:  20.0000%\n"
     ]
    },
    {
     "ename": "KeyboardInterrupt",
     "evalue": "",
     "output_type": "error",
     "traceback": [
      "\u001b[0;31m---------------------------------------------------------------------------\u001b[0m",
      "\u001b[0;31mKeyboardInterrupt\u001b[0m                         Traceback (most recent call last)",
      "\u001b[0;32m/tmp/ipykernel_49428/713796117.py\u001b[0m in \u001b[0;36m<module>\u001b[0;34m\u001b[0m\n\u001b[1;32m     65\u001b[0m \u001b[0;34m\u001b[0m\u001b[0m\n\u001b[1;32m     66\u001b[0m     \u001b[0;32mfor\u001b[0m \u001b[0mh\u001b[0m \u001b[0;32min\u001b[0m \u001b[0mnumpy\u001b[0m\u001b[0;34m.\u001b[0m\u001b[0mlinspace\u001b[0m\u001b[0;34m(\u001b[0m\u001b[0;34m-\u001b[0m\u001b[0;36m2.0\u001b[0m\u001b[0;34m,\u001b[0m \u001b[0;36m2.0\u001b[0m\u001b[0;34m,\u001b[0m \u001b[0mNUM_FIELD\u001b[0m\u001b[0;34m)\u001b[0m\u001b[0;34m:\u001b[0m\u001b[0;34m\u001b[0m\u001b[0;34m\u001b[0m\u001b[0m\n\u001b[0;32m---> 67\u001b[0;31m         \u001b[0mm_list\u001b[0m \u001b[0;34m=\u001b[0m \u001b[0msweep\u001b[0m\u001b[0;34m(\u001b[0m\u001b[0mconfig0\u001b[0m\u001b[0;34m.\u001b[0m\u001b[0mcopy\u001b[0m\u001b[0;34m(\u001b[0m\u001b[0;34m)\u001b[0m\u001b[0;34m,\u001b[0m \u001b[0mh\u001b[0m\u001b[0;34m,\u001b[0m \u001b[0;36m1.0\u001b[0m\u001b[0;34m,\u001b[0m \u001b[0;36m1.0\u001b[0m\u001b[0;34m/\u001b[0m\u001b[0mtemp\u001b[0m\u001b[0;34m,\u001b[0m \u001b[0mNUM_STEP\u001b[0m\u001b[0;34m)\u001b[0m\u001b[0;34m\u001b[0m\u001b[0;34m\u001b[0m\u001b[0m\n\u001b[0m\u001b[1;32m     68\u001b[0m         \u001b[0mmm\u001b[0m\u001b[0;34m.\u001b[0m\u001b[0mappend\u001b[0m\u001b[0;34m(\u001b[0m\u001b[0mm_list\u001b[0m\u001b[0;34m)\u001b[0m\u001b[0;34m\u001b[0m\u001b[0;34m\u001b[0m\u001b[0m\n\u001b[1;32m     69\u001b[0m     \u001b[0mmm\u001b[0m \u001b[0;34m=\u001b[0m \u001b[0mnumpy\u001b[0m\u001b[0;34m.\u001b[0m\u001b[0masarray\u001b[0m\u001b[0;34m(\u001b[0m\u001b[0mmm\u001b[0m\u001b[0;34m)\u001b[0m\u001b[0;34m\u001b[0m\u001b[0;34m\u001b[0m\u001b[0m\n",
      "\u001b[0;32m/tmp/ipykernel_49428/713796117.py\u001b[0m in \u001b[0;36msweep\u001b[0;34m(config, ising_h, ising_j, beta, max_step)\u001b[0m\n\u001b[1;32m     42\u001b[0m     \u001b[0;32mwhile\u001b[0m \u001b[0mistep\u001b[0m \u001b[0;34m<\u001b[0m \u001b[0mmax_step\u001b[0m\u001b[0;34m:\u001b[0m\u001b[0;34m\u001b[0m\u001b[0;34m\u001b[0m\u001b[0m\n\u001b[1;32m     43\u001b[0m         \u001b[0;32mfor\u001b[0m \u001b[0mi\u001b[0m \u001b[0;32min\u001b[0m \u001b[0mrange\u001b[0m\u001b[0;34m(\u001b[0m\u001b[0mNUM_SPIN\u001b[0m\u001b[0;34m)\u001b[0m\u001b[0;34m:\u001b[0m\u001b[0;34m\u001b[0m\u001b[0;34m\u001b[0m\u001b[0m\n\u001b[0;32m---> 44\u001b[0;31m             \u001b[0mene_diff\u001b[0m \u001b[0;34m=\u001b[0m \u001b[0mget_ene_diff\u001b[0m\u001b[0;34m(\u001b[0m\u001b[0mconfig\u001b[0m\u001b[0;34m,\u001b[0m \u001b[0mi\u001b[0m\u001b[0;34m,\u001b[0m \u001b[0mising_h\u001b[0m\u001b[0;34m,\u001b[0m \u001b[0mising_j\u001b[0m\u001b[0;34m)\u001b[0m\u001b[0;34m\u001b[0m\u001b[0;34m\u001b[0m\u001b[0m\n\u001b[0m\u001b[1;32m     45\u001b[0m             \u001b[0;32mif\u001b[0m \u001b[0mene_diff\u001b[0m \u001b[0;34m<=\u001b[0m \u001b[0;36m0.0\u001b[0m\u001b[0;34m:\u001b[0m\u001b[0;34m\u001b[0m\u001b[0;34m\u001b[0m\u001b[0m\n\u001b[1;32m     46\u001b[0m                 \u001b[0mconfig\u001b[0m\u001b[0;34m[\u001b[0m\u001b[0mi\u001b[0m\u001b[0;34m]\u001b[0m \u001b[0;34m*=\u001b[0m \u001b[0;34m-\u001b[0m\u001b[0;36m1\u001b[0m\u001b[0;34m\u001b[0m\u001b[0;34m\u001b[0m\u001b[0m\n",
      "\u001b[0;32m/tmp/ipykernel_49428/713796117.py\u001b[0m in \u001b[0;36mget_ene_diff\u001b[0;34m(config, i, ising_h, ising_j)\u001b[0m\n\u001b[1;32m     19\u001b[0m \u001b[0;34m\u001b[0m\u001b[0m\n\u001b[1;32m     20\u001b[0m     \u001b[0mene_diff\u001b[0m  \u001b[0;34m=\u001b[0m \u001b[0;36m2.0\u001b[0m \u001b[0;34m*\u001b[0m \u001b[0mconfig\u001b[0m\u001b[0;34m[\u001b[0m\u001b[0mi\u001b[0m \u001b[0;34m%\u001b[0m \u001b[0;36m100\u001b[0m\u001b[0;34m]\u001b[0m \u001b[0;34m*\u001b[0m \u001b[0mising_h\u001b[0m\u001b[0;34m\u001b[0m\u001b[0;34m\u001b[0m\u001b[0m\n\u001b[0;32m---> 21\u001b[0;31m     \u001b[0mene_diff\u001b[0m \u001b[0;34m+=\u001b[0m \u001b[0;36m2.0\u001b[0m \u001b[0;34m*\u001b[0m \u001b[0mconfig\u001b[0m\u001b[0;34m[\u001b[0m\u001b[0mi\u001b[0m \u001b[0;34m%\u001b[0m \u001b[0;36m100\u001b[0m\u001b[0;34m]\u001b[0m \u001b[0;34m*\u001b[0m \u001b[0mconfig\u001b[0m\u001b[0;34m[\u001b[0m\u001b[0;34m(\u001b[0m\u001b[0mi\u001b[0m\u001b[0;34m-\u001b[0m\u001b[0;36m1\u001b[0m\u001b[0;34m)\u001b[0m \u001b[0;34m%\u001b[0m \u001b[0;36m100\u001b[0m\u001b[0;34m]\u001b[0m \u001b[0;34m*\u001b[0m \u001b[0mising_j\u001b[0m\u001b[0;34m\u001b[0m\u001b[0;34m\u001b[0m\u001b[0m\n\u001b[0m\u001b[1;32m     22\u001b[0m     \u001b[0mene_diff\u001b[0m \u001b[0;34m+=\u001b[0m \u001b[0;36m2.0\u001b[0m \u001b[0;34m*\u001b[0m \u001b[0mconfig\u001b[0m\u001b[0;34m[\u001b[0m\u001b[0mi\u001b[0m \u001b[0;34m%\u001b[0m \u001b[0;36m100\u001b[0m\u001b[0;34m]\u001b[0m \u001b[0;34m*\u001b[0m \u001b[0mconfig\u001b[0m\u001b[0;34m[\u001b[0m\u001b[0;34m(\u001b[0m\u001b[0mi\u001b[0m\u001b[0;34m+\u001b[0m\u001b[0;36m1\u001b[0m\u001b[0;34m)\u001b[0m \u001b[0;34m%\u001b[0m \u001b[0;36m100\u001b[0m\u001b[0;34m]\u001b[0m \u001b[0;34m*\u001b[0m \u001b[0mising_j\u001b[0m\u001b[0;34m\u001b[0m\u001b[0;34m\u001b[0m\u001b[0m\n\u001b[1;32m     23\u001b[0m     \u001b[0;32mreturn\u001b[0m \u001b[0mene_diff\u001b[0m\u001b[0;34m\u001b[0m\u001b[0;34m\u001b[0m\u001b[0m\n",
      "\u001b[0;31mKeyboardInterrupt\u001b[0m: "
     ]
    }
   ],
   "source": [
    "import numpy, scipy\n",
    "from scipy.constants import k as k_B\n",
    "\n",
    "NUM_SPIN  = 100\n",
    "NUM_STEP  = 20000\n",
    "NUM_FIELD = 11\n",
    "\n",
    "def get_ene_diff(config, i : int, ising_h : float, ising_j : float):\n",
    "    \"\"\"Return the energy difference of flipping spin i.\n",
    "    Args:\n",
    "        config (numpy.ndarray): The current configuration.\n",
    "        i (int): The index of the spin to flip.\n",
    "        ising_h (float): The external field.\n",
    "        ising_j (float): The coupling constant.\n",
    "\n",
    "    Returns:\n",
    "        ene_diff (float): The energy difference of flipping spin i.\n",
    "    \"\"\"\n",
    "\n",
    "    ene_diff  = 2.0 * config[i % 100] * ising_h\n",
    "    ene_diff += 2.0 * config[i % 100] * config[(i-1) % 100] * ising_j\n",
    "    ene_diff += 2.0 * config[i % 100] * config[(i+1) % 100] * ising_j\n",
    "    return ene_diff\n",
    "\n",
    "def sweep(config: numpy.ndarray, ising_h: float, ising_j: float, beta: float, max_step: int):\n",
    "    \"\"\"Perform a Monte Carlo sweep.\n",
    "    Args:\n",
    "        config (numpy.ndarray): The current configuration.\n",
    "        ising_h (float): The external field.\n",
    "        ising_j (float): The coupling constant.\n",
    "        beta (float): The inverse temperature.\n",
    "        nsteps (int): The number of Monte Carlo steps to perform.\n",
    "\n",
    "    Returns:\n",
    "        config (numpy.ndarray): The new configuration.\n",
    "    \"\"\"\n",
    "\n",
    "    m_list = []\n",
    "\n",
    "    istep = 0\n",
    "    \n",
    "    while istep < max_step:\n",
    "        for i in range(NUM_SPIN):\n",
    "            ene_diff = get_ene_diff(config, i, ising_h, ising_j)\n",
    "            if ene_diff <= 0.0:\n",
    "                config[i] *= -1\n",
    "            elif numpy.random.rand() < numpy.exp(-beta * ene_diff):\n",
    "                config[i] *= -1\n",
    "        \n",
    "        if istep / max_step * 100 % 10 == 0:\n",
    "            print(f\"MC progress: {(istep / max_step * 100): 8.4f}%\")\n",
    "        m_list.append(numpy.sum(config))\n",
    "        istep += 1\n",
    "        \n",
    "    return m_list\n",
    "\n",
    "config0 = numpy.ones(NUM_SPIN, dtype = int)\n",
    "config0[numpy.random.choice(NUM_SPIN, NUM_SPIN//2, replace = False)] = -1\n",
    "\n",
    "for temp in [0.5, 1.0, 2.0]:\n",
    "    mm = []\n",
    "\n",
    "    if False:\n",
    "        continue\n",
    "\n",
    "    for h in numpy.linspace(-2.0, 2.0, NUM_FIELD):\n",
    "        m_list = sweep(config0.copy(), h, 1.0, 1.0/temp, NUM_STEP)\n",
    "        mm.append(m_list)\n",
    "    mm = numpy.asarray(mm)\n",
    "\n",
    "    numpy.savetxt(f\"ising_1d_h_{temp:6.4f}.csv\", mm, fmt = \"%12.8f\", delimiter = \", \")"
   ]
  },
  {
   "cell_type": "code",
   "execution_count": null,
   "metadata": {},
   "outputs": [
    {
     "data": {
      "text/plain": [
       "(-0.1, 1.05)"
      ]
     },
     "execution_count": 64,
     "metadata": {},
     "output_type": "execute_result"
    },
    {
     "data": {
      "image/png": "[encoded data removed]",
      "text/plain": [
       "<Figure size 576x288 with 1 Axes>"
      ]
     },
     "metadata": {
      "needs_background": "light"
     },
     "output_type": "display_data"
    }
   ],
   "source": [
    "import numpy, os, sys\n",
    "from pyscf.lib import chkfile\n",
    "\n",
    "sys.path.append(\"./src/\")\n",
    "\n",
    "import matplotlib as mpl\n",
    "from matplotlib import pyplot as plt\n",
    "from scipy.interpolate import UnivariateSpline\n",
    "\n",
    "params = {\n",
    "        \"text.usetex\":     True,\n",
    "        \"font.family\":     \"serif\",\n",
    "        \"font.size\":       20,\n",
    "        \"axes.titlesize\":  30,\n",
    "        \"axes.labelsize\":  24,\n",
    "        \"axes.grid\":       True,\n",
    "        \"grid.color\":      \"#b0b0b0\",  # grid color\n",
    "        \"grid.linestyle\":  \"-.\",          # solid\n",
    "        \"grid.linewidth\":  0.8,        # in points\n",
    "        \"grid.alpha\":      0.3,        # transparency, between 0.0 and 1.0\n",
    "        \"legend.fontsize\": 16,\n",
    "        \"xtick.labelsize\": 16,\n",
    "        \"ytick.labelsize\": 16,\n",
    "        \"figure.subplot.wspace\":0.0,\n",
    "        \"figure.subplot.hspace\":0.0,\n",
    "        \"axes.spines.right\":True,\n",
    "        \"axes.spines.top\":True,\n",
    "        \"xtick.direction\":'in',\n",
    "        \"ytick.direction\":'in'\n",
    "}\n",
    "\n",
    "mpl.rcParams.update(params)\n",
    "\n",
    "def plot_steps(data_path, ax, plot_args = {}):\n",
    "    data = numpy.loadtxt(data_path, delimiter = \", \")\n",
    "    step = numpy.arange(data.shape[1])\n",
    "    h    = numpy.linspace(-2.0, 2.0, data.shape[0])\n",
    "\n",
    "    for i, ih in enumerate([50, 55, 60, 65, 70, 75]):\n",
    "        label = r\"$h = {:.2f}$\".format(h[ih])\n",
    "        ax.plot(step, data[ih] / NUM_SPIN, label = label, **plot_args)\n",
    "\n",
    "    ax.legend(loc=(0.0, 1.05), fancybox=False, framealpha=1.0,\n",
    "              edgecolor='silver', frameon=False, fontsize=15, ncol=3)\n",
    "\n",
    "fig, ax = plt.subplots(1, 1, figsize=(8, 4))\n",
    "plot_steps(\"ising_1d_h_0.5000.csv\", ax)\n",
    "ax.set_xlim(0, NUM_STEP)\n",
    "ax.set_ylim(-0.1, 1.05)"
   ]
  },
  {
   "cell_type": "code",
   "execution_count": null,
   "metadata": {},
   "outputs": [],
   "source": []
  }
 ],
 "metadata": {
  "kernelspec": {
   "display_name": "Python 3.9.7 ('base': conda)",
   "language": "python",
   "name": "python3"
  },
  "language_info": {
   "codemirror_mode": {
    "name": "ipython",
    "version": 3
   },
   "file_extension": ".py",
   "mimetype": "text/x-python",
   "name": "python",
   "nbconvert_exporter": "python",
   "pygments_lexer": "ipython3",
   "version": "3.9.7"
  },
  "orig_nbformat": 4,
  "vscode": {
   "interpreter": {
    "hash": "1827d24de5b5d8e6275f5cd7a11a974fba9ada17161d38401b2ac29d5235a583"
   }
  }
 },
 "nbformat": 4,
 "nbformat_minor": 2
}
